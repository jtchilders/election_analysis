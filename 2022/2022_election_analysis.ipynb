{
 "cells": [
  {
   "cell_type": "code",
   "execution_count": 1,
   "id": "df86d58f",
   "metadata": {},
   "outputs": [],
   "source": [
    "import pandas as pd\n",
    "import numpy as np\n",
    "import matplotlib.pyplot as plt"
   ]
  },
  {
   "cell_type": "code",
   "execution_count": 2,
   "id": "fdb11bb1",
   "metadata": {},
   "outputs": [],
   "source": [
    "fn = '~/2022_US_House_results.csv'\n",
    "df = pd.read_csv(fn)"
   ]
  },
  {
   "cell_type": "code",
   "execution_count": 3,
   "id": "d87c79a7",
   "metadata": {},
   "outputs": [
    {
     "data": {
      "text/plain": [
       "Index(['Unnamed: 0', 'state', 'district_name', 'candidate_name',\n",
       "       'candidate_incumbant', 'candidate_winner', 'candidate_party',\n",
       "       'candidate_votes', 'candidate_pct', 'distrcit_pct_reporting'],\n",
       "      dtype='object')"
      ]
     },
     "execution_count": 3,
     "metadata": {},
     "output_type": "execute_result"
    }
   ],
   "source": [
    "df.columns"
   ]
  },
  {
   "cell_type": "code",
   "execution_count": 8,
   "id": "71a8ff89",
   "metadata": {},
   "outputs": [
    {
     "name": "stdout",
     "output_type": "stream",
     "text": [
      "0.5179503305493633 0.4653417429721479\n"
     ]
    }
   ],
   "source": [
    "\n",
    "total_votes_rep = df[df['candidate_party'] == 'Republican']['candidate_votes'].sum()\n",
    "total_votes_dem = df[df['candidate_party'] == 'Democrat']['candidate_votes'].sum()\n",
    "total_votes = df['candidate_votes'].sum()\n",
    "print(total_votes_rep/total_votes,total_votes_dem/total_votes)"
   ]
  },
  {
   "cell_type": "code",
   "execution_count": 9,
   "id": "43a8ca2a",
   "metadata": {},
   "outputs": [
    {
     "name": "stdout",
     "output_type": "stream",
     "text": [
      "0.5171568627450981 0.48284313725490197\n"
     ]
    }
   ],
   "source": [
    "total_wins_rep = df[df['candidate_party'] == 'Republican']['candidate_winner'].sum()\n",
    "total_wins_dem = df[df['candidate_party'] == 'Democrat']['candidate_winner'].sum()\n",
    "total_wins = df['candidate_winner'].sum()\n",
    "print(total_wins_rep/total_wins,total_wins_dem/total_wins)"
   ]
  },
  {
   "cell_type": "code",
   "execution_count": null,
   "id": "050c01cb",
   "metadata": {},
   "outputs": [],
   "source": []
  }
 ],
 "metadata": {
  "kernelspec": {
   "display_name": "2022-06-16",
   "language": "python",
   "name": "mconda3_2022-06-16"
  },
  "language_info": {
   "codemirror_mode": {
    "name": "ipython",
    "version": 3
   },
   "file_extension": ".py",
   "mimetype": "text/x-python",
   "name": "python",
   "nbconvert_exporter": "python",
   "pygments_lexer": "ipython3",
   "version": "3.8.13"
  }
 },
 "nbformat": 4,
 "nbformat_minor": 5
}
